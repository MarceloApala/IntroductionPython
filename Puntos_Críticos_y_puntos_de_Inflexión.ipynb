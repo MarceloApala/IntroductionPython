{
  "nbformat": 4,
  "nbformat_minor": 0,
  "metadata": {
    "colab": {
      "name": "Puntos Críticos y puntos de Inflexión",
      "provenance": [],
      "collapsed_sections": [],
      "authorship_tag": "ABX9TyMq8kMC7g1ischrvNrdM6cc",
      "include_colab_link": true
    },
    "kernelspec": {
      "name": "python3",
      "display_name": "Python 3"
    },
    "language_info": {
      "name": "python"
    }
  },
  "cells": [
    {
      "cell_type": "markdown",
      "metadata": {
        "id": "view-in-github",
        "colab_type": "text"
      },
      "source": [
        "<a href=\"https://colab.research.google.com/github/MarceloApala/IntroductionPython/blob/master/Puntos_Cr%C3%ADticos_y_puntos_de_Inflexi%C3%B3n.ipynb\" target=\"_parent\"><img src=\"https://colab.research.google.com/assets/colab-badge.svg\" alt=\"Open In Colab\"/></a>"
      ]
    },
    {
      "cell_type": "markdown",
      "metadata": {
        "id": "YJKvQBNgz7SK"
      },
      "source": [
        "ANALISIS DE FUNCIONES DE UNA VARIABLE"
      ]
    },
    {
      "cell_type": "markdown",
      "metadata": {
        "id": "ms4cvPYk0Abl"
      },
      "source": [
        "CALCULO DE MAXIMOS Y MINIMMOS Y PUNTOS DE INFLEXION "
      ]
    },
    {
      "cell_type": "markdown",
      "metadata": {
        "id": "o6FCsz8F0q6n"
      },
      "source": [
        "![1.jpg](data:image/jpeg;base64,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)"
      ]
    },
    {
      "cell_type": "code",
      "metadata": {
        "colab": {
          "base_uri": "https://localhost:8080/"
        },
        "id": "7hNy7dHg0LIR",
        "outputId": "6829e43e-22a6-42d8-a1ee-43b28834f080"
      },
      "source": [
        "from sympy import *\n",
        "x=Symbol('x')\n",
        "y=0.01*x**5-0.18*x**3+0.4*x+0.7\n",
        "print('Funcion :y=' ,y)\n",
        "\n",
        "print('MAXIMOS Y MINIMOS')\n",
        "\n",
        "d1=diff(y,x)\n",
        "critical_points=solve(d1)\n",
        "d2=diff(y,x,2) \n",
        "\n",
        "for i in [0,1,2,3]:\n",
        "  p=(critical_points[i],y.subs({x:critical_points[i]}).evalf())\n",
        "  m=d2.subs({x:critical_points[i]}).evalf() #Valor de la segunda derivada\n",
        "\n",
        "  if m>0:\n",
        "    print('p',i+1,':',p,'MIN')\n",
        "  else:\n",
        "    print('P',i+1,':',p,'MAX')\n",
        "\n",
        "\n",
        "print('PUNTOS DE INFLEXION')\n",
        "inflex_points=solve(d2)\n",
        "\n",
        "for i in [0,1,2]:\n",
        "  p=(inflex_points[i],y.subs({x:inflex_points[i]}).evalf())\n",
        "  print('p',i+1,':',p)\n"
      ],
      "execution_count": 4,
      "outputs": [
        {
          "output_type": "stream",
          "text": [
            "Funcion :y= 0.01*x**5 - 0.18*x**3 + 0.4*x + 0.7\n",
            "MAXIMOS Y MINIMOS\n",
            "P 1 : (-3.16227766016838, 1.96491106406735) MAX\n",
            "p 2 : (-0.894427190999916, 0.465302305081622) MIN\n",
            "P 3 : (0.894427190999916, 0.934697694918378) MAX\n",
            "p 4 : (3.16227766016838, -0.564911064067352) MIN\n",
            "PUNTOS DE INFLEXION\n",
            "p 1 : (-2.32379000772445, 1.35159071816594)\n",
            "p 2 : (0.0, 0.700000000000000)\n",
            "p 3 : (2.32379000772445, 0.0484092818340640)\n"
          ],
          "name": "stdout"
        }
      ]
    }
  ]
}