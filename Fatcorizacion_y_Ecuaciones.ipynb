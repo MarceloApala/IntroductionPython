{
  "nbformat": 4,
  "nbformat_minor": 0,
  "metadata": {
    "colab": {
      "name": "Fatcorizacion y Ecuaciones.ipynb",
      "provenance": [],
      "collapsed_sections": [],
      "authorship_tag": "ABX9TyN8pNUxMKvuuJvJh0c5/9EJ",
      "include_colab_link": true
    },
    "kernelspec": {
      "name": "python3",
      "display_name": "Python 3"
    },
    "language_info": {
      "name": "python"
    }
  },
  "cells": [
    {
      "cell_type": "markdown",
      "metadata": {
        "id": "view-in-github",
        "colab_type": "text"
      },
      "source": [
        "<a href=\"https://colab.research.google.com/github/MarceloApala/IntroductionPython/blob/master/Fatcorizacion_y_Ecuaciones.ipynb\" target=\"_parent\"><img src=\"https://colab.research.google.com/assets/colab-badge.svg\" alt=\"Open In Colab\"/></a>"
      ]
    },
    {
      "cell_type": "code",
      "metadata": {
        "id": "D33j6UPztqIl"
      },
      "source": [
        "from sympy import Symbol,factor,expand,solve\n",
        "x=Symbol('x')\n",
        "y=Symbol('y')"
      ],
      "execution_count": 4,
      "outputs": []
    },
    {
      "cell_type": "markdown",
      "metadata": {
        "id": "E9OwKvB1sxmg"
      },
      "source": [
        "**Factorizacion**\n"
      ]
    },
    {
      "cell_type": "markdown",
      "metadata": {
        "id": "TTrOtcrss9bG"
      },
      "source": [
        "**Ejercicio 1**"
      ]
    },
    {
      "cell_type": "markdown",
      "metadata": {
        "id": "DgElQFL9te6C"
      },
      "source": [
        "![1.jpg](data:image/jpeg;base64,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)"
      ]
    },
    {
      "cell_type": "code",
      "metadata": {
        "colab": {
          "base_uri": "https://localhost:8080/",
          "height": 38
        },
        "id": "vUmIoqHUtn08",
        "outputId": "03c71c6a-e644-4fdd-9b68-73d0ecdb3f0f"
      },
      "source": [
        "expr=50-98*x**2\n",
        "factorizado=factor(expr)\n",
        "factorizado"
      ],
      "execution_count": 6,
      "outputs": [
        {
          "output_type": "execute_result",
          "data": {
            "text/latex": "$\\displaystyle - 2 \\left(7 x - 5\\right) \\left(7 x + 5\\right)$",
            "text/plain": [
              "-2*(7*x - 5)*(7*x + 5)"
            ]
          },
          "metadata": {
            "tags": []
          },
          "execution_count": 6
        }
      ]
    },
    {
      "cell_type": "markdown",
      "metadata": {
        "id": "TumHRZ-ovdHn"
      },
      "source": [
        "**Ejercicio 2**"
      ]
    },
    {
      "cell_type": "markdown",
      "metadata": {
        "id": "sksB0TXzvg2V"
      },
      "source": [
        "![2.jpg](data:image/jpeg;base64,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)"
      ]
    },
    {
      "cell_type": "code",
      "metadata": {
        "colab": {
          "base_uri": "https://localhost:8080/",
          "height": 38
        },
        "id": "2-65uA9pvzAM",
        "outputId": "db83d2b7-41b4-4f9a-cfbe-04a8961cdf4a"
      },
      "source": [
        "expr=18*x**2+17*x-15\n",
        "factorizado=factor(expr)\n",
        "factorizado"
      ],
      "execution_count": 7,
      "outputs": [
        {
          "output_type": "execute_result",
          "data": {
            "text/latex": "$\\displaystyle \\left(2 x + 3\\right) \\left(9 x - 5\\right)$",
            "text/plain": [
              "(2*x + 3)*(9*x - 5)"
            ]
          },
          "metadata": {
            "tags": []
          },
          "execution_count": 7
        }
      ]
    },
    {
      "cell_type": "markdown",
      "metadata": {
        "id": "aprdbqmCwHbI"
      },
      "source": [
        "**Ejercicio 3**"
      ]
    },
    {
      "cell_type": "markdown",
      "metadata": {
        "id": "J3VufS7ywK37"
      },
      "source": [
        "![3.jpg](data:image/jpeg;base64,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)"
      ]
    },
    {
      "cell_type": "code",
      "metadata": {
        "colab": {
          "base_uri": "https://localhost:8080/",
          "height": 38
        },
        "id": "1FPoF7ODwMHs",
        "outputId": "443c4fc9-1312-4391-add0-40c35233f952"
      },
      "source": [
        "expr=15*x**2-29*x+12\n",
        "factorizado=factor(expr)\n",
        "factorizado"
      ],
      "execution_count": 8,
      "outputs": [
        {
          "output_type": "execute_result",
          "data": {
            "text/latex": "$\\displaystyle \\left(3 x - 4\\right) \\left(5 x - 3\\right)$",
            "text/plain": [
              "(3*x - 4)*(5*x - 3)"
            ]
          },
          "metadata": {
            "tags": []
          },
          "execution_count": 8
        }
      ]
    },
    {
      "cell_type": "markdown",
      "metadata": {
        "id": "rC7OU6lfwmzw"
      },
      "source": [
        "**Ejercicio 4**"
      ]
    },
    {
      "cell_type": "markdown",
      "metadata": {
        "id": "1LQ6mBbcwpvT"
      },
      "source": [
        "![4.jpg](data:image/jpeg;base64,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)"
      ]
    },
    {
      "cell_type": "code",
      "metadata": {
        "colab": {
          "base_uri": "https://localhost:8080/",
          "height": 38
        },
        "id": "PXw1cUaIwrNC",
        "outputId": "b88cc310-2be4-44d8-f683-9f7ad4df01ab"
      },
      "source": [
        "expr=15*x**3+16*x**2-75*x+36\n",
        "factorizado=factor(expr)\n",
        "factorizado"
      ],
      "execution_count": 9,
      "outputs": [
        {
          "output_type": "execute_result",
          "data": {
            "text/latex": "$\\displaystyle \\left(x + 3\\right) \\left(3 x - 4\\right) \\left(5 x - 3\\right)$",
            "text/plain": [
              "(x + 3)*(3*x - 4)*(5*x - 3)"
            ]
          },
          "metadata": {
            "tags": []
          },
          "execution_count": 9
        }
      ]
    },
    {
      "cell_type": "markdown",
      "metadata": {
        "id": "D2UYyPEew60E"
      },
      "source": [
        "**Ejercicio 5**"
      ]
    },
    {
      "cell_type": "markdown",
      "metadata": {
        "id": "deJ28cBow-pH"
      },
      "source": [
        "![5.jpg](data:image/jpeg;base64,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)"
      ]
    },
    {
      "cell_type": "code",
      "metadata": {
        "colab": {
          "base_uri": "https://localhost:8080/",
          "height": 38
        },
        "id": "oUL_d8oHxXf5",
        "outputId": "0d17c1db-1b55-4ff0-eb0c-070d9263e169"
      },
      "source": [
        "expr=12*x**4-76*x**3+133*x**2-9*x-90\n",
        "factorizado=factor(expr)\n",
        "factorizado"
      ],
      "execution_count": 10,
      "outputs": [
        {
          "output_type": "execute_result",
          "data": {
            "text/latex": "$\\displaystyle \\left(x - 3\\right) \\left(2 x - 5\\right) \\left(2 x - 3\\right) \\left(3 x + 2\\right)$",
            "text/plain": [
              "(x - 3)*(2*x - 5)*(2*x - 3)*(3*x + 2)"
            ]
          },
          "metadata": {
            "tags": []
          },
          "execution_count": 10
        }
      ]
    },
    {
      "cell_type": "markdown",
      "metadata": {
        "id": "wSV6rf35yCp_"
      },
      "source": [
        "**Ecuaciones**"
      ]
    },
    {
      "cell_type": "markdown",
      "metadata": {
        "id": "UWgCfGTQyICU"
      },
      "source": [
        "**Ejercico 6**"
      ]
    },
    {
      "cell_type": "markdown",
      "metadata": {
        "id": "iXB6UoWvyLk2"
      },
      "source": [
        "![6.jpg](data:image/jpeg;base64,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)"
      ]
    },
    {
      "cell_type": "code",
      "metadata": {
        "colab": {
          "base_uri": "https://localhost:8080/",
          "height": 0
        },
        "id": "LSSGTQVgyzLx",
        "outputId": "0bcdf5ba-9820-4528-88ba-1ffbfa0cc987"
      },
      "source": [
        "expr1=147*x**2-75\n",
        "solve(expr1)"
      ],
      "execution_count": 13,
      "outputs": [
        {
          "output_type": "execute_result",
          "data": {
            "text/plain": [
              "[-5/7, 5/7]"
            ]
          },
          "metadata": {
            "tags": []
          },
          "execution_count": 13
        }
      ]
    },
    {
      "cell_type": "markdown",
      "metadata": {
        "id": "7Y98uz2jzvPa"
      },
      "source": [
        "**Ejercicio 7**"
      ]
    },
    {
      "cell_type": "markdown",
      "metadata": {
        "id": "zqt3bQJqzzoP"
      },
      "source": [
        "![7.jpg](data:image/jpeg;base64,/9j/4AAQSkZJRgABAQEAYABgAAD/4QAiRXhpZgAATU0AKgAAAAgAAQESAAMAAAABAAEAAAAAAAD/2wBDAAIBAQIBAQICAgICAgICAwUDAwMDAwYEBAMFBwYHBwcGBwcICQsJCAgKCAcHCg0KCgsMDAwMBwkODw0MDgsMDAz/2wBDAQICAgMDAwYDAwYMCAcIDAwMDAwMDAwMDAwMDAwMDAwMDAwMDAwMDAwMDAwMDAwMDAwMDAwMDAwMDAwMDAwMDAz/wAARCABBATUDASIAAhEBAxEB/8QAHwAAAQUBAQEBAQEAAAAAAAAAAAECAwQFBgcICQoL/8QAtRAAAgEDAwIEAwUFBAQAAAF9AQIDAAQRBRIhMUEGE1FhByJxFDKBkaEII0KxwRVS0fAkM2JyggkKFhcYGRolJicoKSo0NTY3ODk6Q0RFRkdISUpTVFVWV1hZWmNkZWZnaGlqc3R1dnd4eXqDhIWGh4iJipKTlJWWl5iZmqKjpKWmp6ipqrKztLW2t7i5usLDxMXGx8jJytLT1NXW19jZ2uHi4+Tl5ufo6erx8vP09fb3+Pn6/8QAHwEAAwEBAQEBAQEBAQAAAAAAAAECAwQFBgcICQoL/8QAtREAAgECBAQDBAcFBAQAAQJ3AAECAxEEBSExBhJBUQdhcRMiMoEIFEKRobHBCSMzUvAVYnLRChYkNOEl8RcYGRomJygpKjU2Nzg5OkNERUZHSElKU1RVVldYWVpjZGVmZ2hpanN0dXZ3eHl6goOEhYaHiImKkpOUlZaXmJmaoqOkpaanqKmqsrO0tba3uLm6wsPExcbHyMnK0tPU1dbX2Nna4uPk5ebn6Onq8vP09fb3+Pn6/9oADAMBAAIRAxEAPwD9/KKKKACiiigAooooAKKKKACiiigAooooAKKKKACiiigAooooAKKKKACiiigAooooAKKKKACiiigAooooAKKKKACiiigAooooAKKKKACiiigArzf43/tffCf9mO/061+JXxQ+Hfw9udWjeWxi8S+JLPSXvUQgO0S3EiFwpYAlc4yM9a9IryX9ov8AYZ+Df7XOp6Ze/FD4Y+CfH15o8TwWE2uaTDeyWkbkM6oXBKgkAkD0oA5n/h7F+yz/ANHLfAD/AMOHpH/yRU37UP8AwUQ+H/7JV18I5vEg1i+8P/GjxFbeGdE8Q6SkF1pNrdXUfmWr3EvmqVhmGdkkayDgk4Xmvy0/4Lh/sA/AfxN+0F8Af2T/AIJ/B/4c+D/iN8YtfTVde1vQ9CtYL7QPD1tvM8gYLuQuEmcHoRZSKfv19s/8F3/2UdI8bf8ABEX4o+E9HtWsbf4a+GYNd0Ew5L6aNH8uddh6j/R4JIyeyu3TrQB92UV4f/wTY/aLuP2tf2A/g/8AEe8k8zUvFvhSwvNSb1vfJVLnHt56yV7hQAVmeKvFul+BfD91q+talp+j6TYp5tze31wlvb26dNzyOQqjkck1p1+Sv/BzNb/2d8WP2U9b+Jtjq+pfsq6N4xlk+JcVpHNNaxSM1stnJexxfO0IBnAxnOZFwXeMMAfo18H/ANtf4NftCa/LpHgD4tfDPxzq0Kl5LLw94psdTuI1GSSY4JWYAYPbtXqFfhX/AMFdvhL+zn478U/s76N+xFo/w5tf2ktT8Xafqvh+++FttbwrYaOFk8291BrLbGsAcwkvMQ+FfnYHr91KACivkPx9/wAFUo/gj/wVR8O/s3/EDwO3hfRfiNpP23wH44/tnz7TxJeKF82wkgMCC2mVxKg/fSFj9n4BuFAvfD//AIKcJ8a/+Cn3ib9njwJ4LbxJovw30db7x143/tbybTw/fSZ8nTY4BC4uJ2O3d++j2bZ+CYWUgHJ/tx/tY/tB/sC/CO6+M3iZ/g/4i+Huj+I7Kz1nwfpGiakmtWumXt+lhDLb6s955Vxco9xbSMh06JWBkQMNqyN9tV+UPxH/AOChHwP/AOCmX7Y8ek+Mfjd8KfAv7PPwD8URXw03XfGGn6XffE3xLZtvid4JpVkOj2jkMNy7LqYA/OkY2/qlpeq2+u6Zb3tncQ3lneRLPBPBIJIp42AZXVhkMpBBBHBBoAuUUUUAFcj8Xfj14H/Z+8OrrHjzxl4V8EaSxKi91/VrfTbckYyPMmdVzyO/euur5g+OH/BIL4C/tP8A7UF58Wfid4NT4i+I5tMg0m0s/EExu9J0uCLd/qLTiPc5YszOHOfu7eaAPc/hJ8cvBX7QHhj+3PAfjDwv420XeYv7Q0DVYNStd4GSvmwuy5wRxnvW9reu2fhnSLjUNSvLXT7CzjMtxcXMqxQwIOSzuxAUAdSTivxf/ZI+A3h79h//AIOrPEHw1+BMMmg/DvXfh82s+M/DdnMzWGlztF5kYWMk7AJWs3Uc7PtbKu1G2jvP+Cm2q6b/AMFFf+Cy/hn9mXx94qj8Pfs9/B/wYPiT8QrN9UXTrfXrkzxpb291MWUCFDPZtjIOJZSMNsdQD9HPhh+3J8FPjb41bw34M+MHwt8W+I0ZlbStF8V2GoXqlclgYYpWfI2tnjjafSvVq+O/2YP2bv2FPiT4/wBF1r4J+Hf2a9Y8VeApxfWV/wCA30qTUNOkC7A8klk3mNw2P3pI59a+xKACivkP9l3/AIKqxfGT/goB8WP2b/HfgaT4Z/ED4er/AGlonm6x9vtfGWjkjbf27mCHYdjxM0Xzld7jcTFJtv8A/BP7/gpqP+CiXxl+L1v4P8EtD8J/hprH/CPaX48fV/Nj8X36AfaFtrYQgLDH1EvnPvV4iFG8hQD6toor4z/bN/b88bfs+/8ABU39lb4M6La+H5vCXxoGvDX5Lu2ke9iNnarLCYJBIqp8x53I2R6UAfZlFFcj8c/CfiTx38GfFGi+DfFH/CEeLNU0u4tdI8QGwS//ALGunjKx3PkOQkuxiG2scHHNADPEXx88C+EfijovgfVvGvhPS/G3iRHl0jw/d6xbw6pqqIrM7W9sziWUKqsSUU4CknpW74r8WaV4B8L6hreualp+i6Ho9tJe3+oX9wlta2UEal5JZZXIVEVQSzMQAASTX4b+Lv8AgnloX7AX/Bw5+xrHb+K/GXxA8ZeOItb1bxV4q8T6i13f65drZ3KK5BO2NFX5VRei4BZsA1+n3/Baj/lEh+0b/wBk+1f/ANJXoA3v+HsX7LP/AEct8AP/AA4ekf8AyRXtXg3xro/xH8J6br3h7VtN13QdZt0vNP1LTrpLq0voHUMksUqEo6MpBDKSCDkGvyb/AOCT3wO/4J5/FX9hv4I6d4o0/wDZW1z4qah4S07+2bG+vdHl12a/MCecJ4WfzvO353Bl3Z61+sHgDwBonwp8EaT4Z8N6Tp+heH9BtI7HTtOsYFgtrKCNQqRxooAVVAAAFAG1RXjv7bf7dnw3/wCCenwVX4hfFTWbrQ/C7ahDpa3Nvp896/2iUOyLshVmwRG3OMcdeRXyH/xFefsSf9FK17/wkdT/APjFAH6PU2SRYkLMQqqMkk4AFeZ/sh/tc+Bf25/gHo/xM+GuqXGseD9ee4js7ueyms3kaCd4JMxyqrjEkbjkc4r4Z/4OWvi94kvPhT8Df2f/AAzrl54Zm/ac+Ilh4L1bULVmSZNMkliinjVgRgO9xAGB4ZA6kEMaAPt7wj+3L8E/H/xHPg/QfjB8Lda8XCQwnQ7DxXYXOohwcFfs6SmTdk9Nua9Wr8v/APgpH/wb+/s2eG/+CZ3jyP4e/DfRvBnjT4b+FrnXfDvibTi0WsfbLCBrhDPdZ3zeaYijmTdjzCy7WVSPpT/giJ+1Nrn7aP8AwSq+DHxF8S3E974i1bRpLHUrydt0t9c2N1PYSXDnu0rWxkPu5oA+rKKKKACqHiHX7LwpoN9qmpXUFjp2m28l3d3M7hIreJFLO7MeAqqCSewFX683/a0/Zt0/9r/9m3xh8MNY1zxL4c0fxtp7aXqF/oFxDBqCWzkeakbyxSoBIgaNsxn5JGAwcEAH5x/8EHtLvv8AgoX+258ff24vElvcf2b4k1B/A3w1hulINlotqV8yRFPC7wsCkgD959r67jX3Z/wVI1W00P8A4Jo/tDXeoQx3VlD8NfEbTQO+wXC/2Zcfu8/7X3f+BV2H7Jv7MHhT9iz9nLwf8LfBNvcW/hfwXp62Fn9pdXnm5LyTSsqqrSySM8jkKoLOxAA4r5H/AODlD4y6l4J/4Jn6r8PvDKG68d/HfW9O+Hvh2xTmS8lvJ1MyAehgjlTJ4BlXPWgDqP8Ag3TsZtP/AOCK3wCjmjeN20W4lCsMEq9/cup+hVgR7EV9sV57+yh8BLH9lj9mT4f/AA102Tz7LwH4esdCjmxg3H2eBIjKfdypY+7GvQqACvzD/wCCv3xy8X/tI/8ABRv4N/sPaN4ruPhv4L+L3h+78QeNPEFmkf8AaWraegvB/ZVlJIrLHJJ9jk3sFLASRnlVZJP08r50/b5/4JefCX/gpBpfh7/hYml6tb+IPB1w1z4e8SaFqMmm6zocrFWLQTp7ohw6soZQwAIBoA/Nz/gpz/wTe8N/8EC/gX/w1B+yf4o1r4Y654Ru9M0zX/C+oapNqejeObSW4jhMUsU7FzLufzDtcAIspQRsAw/Yv4UeNZPiZ8LPDXiOWxm0ubxBpVrqT2Up/eWjTQpIYmI7ru2n6V8VeDv+DeX4RnxroesfE34jftBftBReGLlLzStK+J/jqTW9MsZkBCOtukcStjJ+V9ynJBBBIr74oA/LH/g5+XQ/jB8Jvg78G/Ddjcap+0Z458bWdx8NH0+5NveeHZIZFNzqUkiAvHbrH8rH+9tkH+oJV3/BrX4s0Hw9+zj8UPhhrel32i/tCeB/G+oSfFJdUuBPqOsX088nlXxkxl4iqNGOWG6J3yfNDN9i+GP+CbPgTR/+ChOuftMahqnivxN8RNS0ZPD+nQ6vdwS6Z4Wswqhk0+FIUaIyYYszu7HzpcECRga0/wDwTG8Aw/8ABR63/ag0nVPFfhz4gzaGfD+tWWmXVvHpHie32FFN9E8DSvIgWDa0csf/AB6w5BCkMAfSFFFFAHwD8Wf+CAHh34ufFXxN4qm/ac/bG0STxNq11qz6dpHxGjt9P09p5mlMFvEbRjHChfailiVVVGTjNYH/ABDceGP+jsf24f8Aw58X/wAhV+jtFAHNfCH4cx/B/wCFHhjwnDquua7D4X0m00hNT1m6+16lqK28KRCe5mwPNncJud8DczMcDNfM3/BWL/gqRaf8E/fAuh+HfCOjDx/8ePiTcDS/Angu2bfPf3DnYLqdVIZbWNupyu8jaGUb3T6+r4F/bB/4N6fhf+2N+2bqvx31D4pfH7wP481S2t7QS+EPE9tp0VjFDbJbBLcvaSSxK6KS6iTazO5x8xoA6T/gj9/wS4v/ANhjw94t+IXxM1xfHH7RHxhuv7W8ceIid0cLMS66fa9AIImY8gLvIXgIkSJ8YfFH9lf4Y/Gb/g7N8TeH/jf4X0TxRofjT4XW2reEdM1cM9rf6hbrbRZaIkJMVhtdR+Rw6/LuxlQV+uP2ff8AghB4f/Z7+Nnhrxvb/tI/tc+KZ/DN9HfppPiL4hR3ulagU6R3MItUMkZ7ruGfWvVf+Chv/BKL4S/8FL9O0GTx9b69o/ibwjK02g+KfDWof2brmjliCRFPtdSu4BgrowDDIAOSQD87/wDgtv8Aso/Cv9iD9s79jPxd8A/CHhX4Z/GDXPidZ6TFpvhSxi0uPWtNaSJJ/NtrcKhQNKkTNtBZLl1YkYx+1FfGH7G3/BC74L/sd/HKH4oNqPxG+LHxOs4Tbaf4q+IfiE63qOmRFWUrAQkcafK7KG2FwGYBgGbP2fQB+If/AAcq+EdQ/a7/AG3vhr8Of2eNN1S7/aa8D+E9a1vXNZ0W/NnNpPh5rSQiwmkTnzbhpHWJSy7TdAdLncPt7/g3k+Lfwx+Kf/BKD4Xw/C/T00Oz8K2X9ia/pLMGurDWYsG8M5Crukmkcz7to3LOpwv3R6t+x7/wTY8C/sYfGP4q/EPSdV8WeLPHXxk1cap4g13xNdwXd4qruMdnbmKGJYrWPcdsYUnAQFisaBYP2W/+CZHgL9jj9qf4sfFLwHqvizTZfjLOl9r/AIZa5t28Px3isXN3bwiASxzMzzE5mZT57/LgIFAPS/2qv2fLf9qz4B+IPh/eeKPGfgu38RRxRvrXhPUxpus2PlzRzA29wUcISYwrfKcozDvX4ift0f8ABHHRfhF/wVy/ZD+G0Px6/ac1u1+Jf9v+fruseNo7nXNB+zWquP7OuRbKLfzM4kyjbl44r9/65fxH8G/CPi/x94f8Wat4V8Oap4o8JiddE1m80yGfUNGE6hJhbTspkh8xQA+xhuAwc0AeRfsC/wDBPTTf2ANC8SWGn/FD4z/E5fElxBcPN8QvEq61LYGJXULblYYhGrb8sMHJVeeK+haK5P44/C2L43/BzxR4Pn1rxD4cg8UaXcaVJqug3n2PVNPWaNozNbTbW8uZd2VbacEDg9KAPzT/AOCmv/Kyj+wh/wBgzXv/AEmua/UDxz4G0b4neC9V8OeItLsdc0DXrSWw1HT76BZ7a+t5VKSRSIwKsjKSCCMEGvzZ13/g1j+F3inxxpPibU/2iP2vtR8SaArpperXXj60mvtNVwQ4gmawLxhgSDtIzk5r6d0f/glJ4Dm/YTvv2ffFviz4rfEbwnqF59vk1jxP4okuPEKzLcpdRMt5CsRURSxoUAXHy4IYE5APOv27/wDgkF+x1P8Asc+PpvEXwb+E/gHSdG0C7u38RaNoNnot9pBihZlnW5hRHLKyqcOWDnhlYMQef/4Ng/id4z+K/wDwRs+GuoeNL3UNUuLO51LTdLvb1mea40+C7kihBdiSyx7XiU9liVf4ax5f+DZH4L+KtQt4fHHxU/aX+JvhW1lWVPCvin4gvdaN8hGxdkcMcuFwAMSgjHWv0C+HXw70P4R+BNJ8MeGdJ0/QfDug2kdjp2nWUCw21lBGoVI0ReAoAoA85/ba+OPxK/Z9+Cy698K/hBdfG7xQdQhtj4ct/EEGhstu4cvcfaJkdcIVUbduTv8AY18h/wDD1T9tv/pHFr3/AIeDTP8A5Er9HqKAPMf2Q/iz46+OHwD0bxN8SPhncfCHxhfvcLeeFp9Zh1h9PVJ3jjY3MSIj+ZGqSYCjbvxzjJ/Ov/g5tvV+Fnxb/Yf+LGrf6P4O+HPxmsLjW7xjiO0Qz2lyGZuijy7Kc5P92v1irzv9qP8AZc8Dftn/AAP1z4c/EjQbfxH4R8RRrHd2cjtG25WDpJHIhDxyI6hldSCCKAPNv+Cr/wAa/D/wQ/4Jk/G/xRrl/bwab/whGqWtu5kUC7uLm0kgtokPQtJLLGq4/vV5j/wbo/CnVvgz/wAEWPgLoutQSW99caRd6yI5IyjCG/1G7v4Mg88w3MZ985rzzwH/AMGwv7P/AId13Qh4m8XfHL4meEfDFytzpPgvxf4w+2+G7BkJ2BLWOGMlBnGxnKsMhgwJB/RWxs4dMs4re3ijgt4EEcUUahVjUDAVQOAABgAUAWaKKKACiiigArmfF/wg8J/EPxR4f1rxB4W8O65rXhG4e70LUNQ02G5utFmdQry20jqWhdlABaMgkAAmumooAKKKKACiiigAooooAKKKKACiiigAooooAKKKKACiiigAooooAKKKKACiiigAooooAKKKKACiiigAooooAKKKKACiiigAooooAKKKKACiiigAooooAKKKKACiiigAooooAKKKKACiiigAooooAKKKKACiiigAooooAKKKKACiiigAooooAKKKKACiiigAooooAKKKKACiiigD/9k=)"
      ]
    },
    {
      "cell_type": "code",
      "metadata": {
        "colab": {
          "base_uri": "https://localhost:8080/",
          "height": 0
        },
        "id": "b-QL0Vu_z0z0",
        "outputId": "82fb35c6-c94d-4cdd-9e8e-faa7d887ae92"
      },
      "source": [
        "expr1=8*x**2-26*x+15\n",
        "solve(expr1)"
      ],
      "execution_count": 15,
      "outputs": [
        {
          "output_type": "execute_result",
          "data": {
            "text/plain": [
              "[3/4, 5/2]"
            ]
          },
          "metadata": {
            "tags": []
          },
          "execution_count": 15
        }
      ]
    },
    {
      "cell_type": "markdown",
      "metadata": {
        "id": "CT0gj31w0OZO"
      },
      "source": [
        "**Ejercicio 8**"
      ]
    },
    {
      "cell_type": "markdown",
      "metadata": {
        "id": "3P9OSnbE0R43"
      },
      "source": [
        "![8.jpg](data:image/jpeg;base64,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)"
      ]
    },
    {
      "cell_type": "code",
      "metadata": {
        "colab": {
          "base_uri": "https://localhost:8080/",
          "height": 0
        },
        "id": "m3YzY9e_0S71",
        "outputId": "6efa1ccd-3fef-4532-a14e-ded3bbbbb076"
      },
      "source": [
        "expr1=8*x**3-42*x**2+67*x-30\n",
        "solve(expr1)"
      ],
      "execution_count": 16,
      "outputs": [
        {
          "output_type": "execute_result",
          "data": {
            "text/plain": [
              "[3/4, 2, 5/2]"
            ]
          },
          "metadata": {
            "tags": []
          },
          "execution_count": 16
        }
      ]
    },
    {
      "cell_type": "markdown",
      "metadata": {
        "id": "WWG4phh70dmE"
      },
      "source": [
        "**Ejercicio 9**"
      ]
    },
    {
      "cell_type": "markdown",
      "metadata": {
        "id": "kPZqbuRr0g8p"
      },
      "source": [
        "![9.jpg](data:image/jpeg;base64,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)"
      ]
    },
    {
      "cell_type": "code",
      "metadata": {
        "colab": {
          "base_uri": "https://localhost:8080/",
          "height": 0
        },
        "id": "3fjDAiuT0iqc",
        "outputId": "32a2cf33-c599-48b7-8bde-105932d93c39"
      },
      "source": [
        "expr1=12*x**3-65*x**2+102*x-45\n",
        "solve(expr1)"
      ],
      "execution_count": 17,
      "outputs": [
        {
          "output_type": "execute_result",
          "data": {
            "text/plain": [
              "[3/4, 5/3, 3]"
            ]
          },
          "metadata": {
            "tags": []
          },
          "execution_count": 17
        }
      ]
    },
    {
      "cell_type": "markdown",
      "metadata": {
        "id": "LzhnTvJG0uCz"
      },
      "source": [
        "**Ejercicio 10**"
      ]
    },
    {
      "cell_type": "markdown",
      "metadata": {
        "id": "l8J9Z_IR0yJH"
      },
      "source": [
        "![10.jpg](data:image/jpeg;base64,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)"
      ]
    },
    {
      "cell_type": "code",
      "metadata": {
        "colab": {
          "base_uri": "https://localhost:8080/",
          "height": 0
        },
        "id": "00YRdi1H00L_",
        "outputId": "a0b0fe9c-c4af-49a8-a73b-3ef3c84a4929"
      },
      "source": [
        "expr1=60*x**4-64*x**3-119*x**2+144*x-36\n",
        "solve(expr1)"
      ],
      "execution_count": 18,
      "outputs": [
        {
          "output_type": "execute_result",
          "data": {
            "text/plain": [
              "[-3/2, 2/5, 2/3, 3/2]"
            ]
          },
          "metadata": {
            "tags": []
          },
          "execution_count": 18
        }
      ]
    }
  ]
}