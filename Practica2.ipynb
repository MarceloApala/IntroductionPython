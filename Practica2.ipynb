{
  "nbformat": 4,
  "nbformat_minor": 0,
  "metadata": {
    "colab": {
      "name": "Practica2.ipynb",
      "provenance": [],
      "collapsed_sections": [],
      "authorship_tag": "ABX9TyOCAkoZ/0e3y9ob3BQ4a+y0",
      "include_colab_link": true
    },
    "kernelspec": {
      "name": "python3",
      "display_name": "Python 3"
    },
    "language_info": {
      "name": "python"
    }
  },
  "cells": [
    {
      "cell_type": "markdown",
      "metadata": {
        "id": "view-in-github",
        "colab_type": "text"
      },
      "source": [
        "<a href=\"https://colab.research.google.com/github/MarceloApala/IntroductionPython/blob/master/Practica2.ipynb\" target=\"_parent\"><img src=\"https://colab.research.google.com/assets/colab-badge.svg\" alt=\"Open In Colab\"/></a>"
      ]
    },
    {
      "cell_type": "markdown",
      "metadata": {
        "id": "CWBkPZajnQwi"
      },
      "source": [
        "**4.DESIGUALDADES**"
      ]
    },
    {
      "cell_type": "code",
      "metadata": {
        "id": "K6AU56X6nWDG"
      },
      "source": [
        "from sympy import Symbol\n",
        "from sympy.solvers.inequalities import solve_univariate_inequality\n",
        "x=Symbol('x')"
      ],
      "execution_count": null,
      "outputs": []
    },
    {
      "cell_type": "markdown",
      "metadata": {
        "id": "Y96o8RbInzXf"
      },
      "source": [
        "**Desigualdades Simples**![Desigualdades.jpg](data:image/jpeg;base64,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)"
      ]
    },
    {
      "cell_type": "code",
      "metadata": {
        "colab": {
          "base_uri": "https://localhost:8080/",
          "height": 38
        },
        "id": "JB3pbLh_oDQY",
        "outputId": "7d85077f-c7ca-4980-bbe7-276e2c83b71e"
      },
      "source": [
        "solve_univariate_inequality(-3*x-9>2*x+6,x)"
      ],
      "execution_count": null,
      "outputs": [
        {
          "output_type": "execute_result",
          "data": {
            "text/latex": "$\\displaystyle -\\infty < x \\wedge x < -3$",
            "text/plain": [
              "(-oo < x) & (x < -3)"
            ]
          },
          "metadata": {
            "tags": []
          },
          "execution_count": 2
        }
      ]
    },
    {
      "cell_type": "markdown",
      "metadata": {
        "id": "vAlv-rlvo6hH"
      },
      "source": [
        "**Desigualdades de Segundo Grado![Desigualdades 2do Grado.jpg](data:image/jpeg;base64,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)**"
      ]
    },
    {
      "cell_type": "code",
      "metadata": {
        "colab": {
          "base_uri": "https://localhost:8080/",
          "height": 58
        },
        "id": "YN2aHv-OpAPM",
        "outputId": "4778df73-1182-4741-afc1-97d9067f212e"
      },
      "source": [
        "solve_univariate_inequality(5*x**2+2*x>3*x**2+3*x+6,x)"
      ],
      "execution_count": null,
      "outputs": [
        {
          "output_type": "execute_result",
          "data": {
            "text/latex": "$\\displaystyle \\left(-\\infty < x \\wedge x < - \\frac{3}{2}\\right) \\vee \\left(2 < x \\wedge x < \\infty\\right)$",
            "text/plain": [
              "((-oo < x) & (x < -3/2)) | ((2 < x) & (x < oo))"
            ]
          },
          "metadata": {
            "tags": []
          },
          "execution_count": 3
        }
      ]
    },
    {
      "cell_type": "markdown",
      "metadata": {
        "id": "-5p0-NX5puFL"
      },
      "source": [
        "**Desigualdad de Tercer Grado**![Desigualdades 3er Grado.jpg](data:image/jpeg;base64,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)"
      ]
    },
    {
      "cell_type": "code",
      "metadata": {
        "colab": {
          "base_uri": "https://localhost:8080/",
          "height": 58
        },
        "id": "ppHtyw7yptU7",
        "outputId": "618bd78d-27f0-47cc-b8d4-3e55af3bde0e"
      },
      "source": [
        "solve_univariate_inequality(5*x**3+18*x**2+7*x-6>=0,x)"
      ],
      "execution_count": null,
      "outputs": [
        {
          "output_type": "execute_result",
          "data": {
            "text/latex": "$\\displaystyle \\left(-3 \\leq x \\wedge x \\leq -1\\right) \\vee \\left(\\frac{2}{5} \\leq x \\wedge x < \\infty\\right)$",
            "text/plain": [
              "((-3 <= x) & (x <= -1)) | ((2/5 <= x) & (x < oo))"
            ]
          },
          "metadata": {
            "tags": []
          },
          "execution_count": 4
        }
      ]
    }
  ]
}