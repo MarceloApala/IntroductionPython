{
  "nbformat": 4,
  "nbformat_minor": 0,
  "metadata": {
    "colab": {
      "name": "Untitled0.ipynb",
      "provenance": [],
      "authorship_tag": "ABX9TyMVDOylj0deKD49S+rFuubG",
      "include_colab_link": true
    },
    "kernelspec": {
      "name": "python3",
      "display_name": "Python 3"
    },
    "language_info": {
      "name": "python"
    }
  },
  "cells": [
    {
      "cell_type": "markdown",
      "metadata": {
        "id": "view-in-github",
        "colab_type": "text"
      },
      "source": [
        "<a href=\"https://colab.research.google.com/github/MarceloApala/IntroductionPython/blob/master/Untitled0.ipynb\" target=\"_parent\"><img src=\"https://colab.research.google.com/assets/colab-badge.svg\" alt=\"Open In Colab\"/></a>"
      ]
    },
    {
      "cell_type": "code",
      "metadata": {
        "id": "EQJ4_wTFCEPW"
      },
      "source": [
        "import numpy as np\n",
        "import matplotlib.pyplot as plt"
      ],
      "execution_count": 1,
      "outputs": []
    },
    {
      "cell_type": "code",
      "metadata": {
        "colab": {
          "base_uri": "https://localhost:8080/",
          "height": 445
        },
        "id": "xkK8iwraCobB",
        "outputId": "dc831881-2247-4860-d73c-352100a6d5d9"
      },
      "source": [
        "x1=np.arange(0,4.01,0.01)\n",
        "x2=np.arange(4,8.01,0.01)\n",
        "x3=np.arange(0,4.01,0.01)\n",
        "x4=np.arange(4,8.01,0.01)\n",
        "y1=-x1**2/4+2*x1\n",
        "y2=x2**2/8-x2+6\n",
        "y3=-x3**2/8+x3\n",
        "y4=x4**2/4-2*x4+6\n",
        "\n",
        "plt.figure(figsize=(6,7)) \n",
        "plt.xlim(-6,14)            \n",
        "plt.ylim(-6,16)\n",
        "plt.xticks(np.arange(-6,12,1))\n",
        "plt.yticks(np.arange(-6,14,1))\n",
        "\n",
        "plt.plot(x1,y1,'y')\n",
        "plt.plot(x2,y2,'r')\n",
        "plt.plot(x3,y3,'y')\n",
        "plt.plot(x4,y4,'r')\n",
        "\n"
      ],
      "execution_count": 10,
      "outputs": [
        {
          "output_type": "execute_result",
          "data": {
            "text/plain": [
              "[<matplotlib.lines.Line2D at 0x7f6eba417c10>]"
            ]
          },
          "metadata": {
            "tags": []
          },
          "execution_count": 10
        },
        {
          "output_type": "display_data",
          "data": {
            "image/png": "[encoded data removed]",
            "text/plain": [
              "<Figure size 432x504 with 1 Axes>"
            ]
          },
          "metadata": {
            "tags": [],
            "needs_background": "light"
          }
        }
      ]
    }
  ]
}