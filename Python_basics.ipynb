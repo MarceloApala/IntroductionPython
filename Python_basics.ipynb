{
  "nbformat": 4,
  "nbformat_minor": 0,
  "metadata": {
    "colab": {
      "name": "Python_basics.ipynb",
      "provenance": [],
      "include_colab_link": true
    },
    "kernelspec": {
      "name": "python3",
      "display_name": "Python 3"
    }
  },
  "cells": [
    {
      "cell_type": "markdown",
      "metadata": {
        "id": "view-in-github",
        "colab_type": "text"
      },
      "source": [
        "<a href=\"https://colab.research.google.com/github/MarceloApala/IntroductionPython/blob/master/Python_basics.ipynb\" target=\"_parent\"><img src=\"https://colab.research.google.com/assets/colab-badge.svg\" alt=\"Open In Colab\"/></a>"
      ]
    },
    {
      "cell_type": "markdown",
      "metadata": {
        "id": "-hbXWNGq5yR8"
      },
      "source": [
        "#Python basics\n",
        "\n",
        "On this notebook, we will cover the basics of Python and how to make use of different structures $x^2 = y^2+z^2$"
      ]
    },
    {
      "cell_type": "code",
      "metadata": {
        "colab": {
          "base_uri": "https://localhost:8080/",
          "height": 35
        },
        "id": "MuatKuwq5xlz",
        "outputId": "eddbf9d5-0bef-4c6f-9c6f-6a55f8673864"
      },
      "source": [
        "hola = 'hola mundo'\n",
        "hola"
      ],
      "execution_count": null,
      "outputs": [
        {
          "output_type": "execute_result",
          "data": {
            "application/vnd.google.colaboratory.intrinsic+json": {
              "type": "string"
            },
            "text/plain": [
              "'hola mundo'"
            ]
          },
          "metadata": {
            "tags": []
          },
          "execution_count": 4
        }
      ]
    },
    {
      "cell_type": "code",
      "metadata": {
        "colab": {
          "base_uri": "https://localhost:8080/"
        },
        "id": "ytMBFDAgbQlM",
        "outputId": "16a796e4-db0e-4afa-fff4-b8c7499fd59f"
      },
      "source": [
        "a = 3\n",
        "b = 0.5\n",
        "c = True\n",
        "d = 'Esta es una cadena'\n",
        "\n",
        "print(a)\n",
        "print(b)\n",
        "print(c)\n",
        "print(d)"
      ],
      "execution_count": null,
      "outputs": [
        {
          "output_type": "stream",
          "text": [
            "3\n",
            "0.5\n",
            "True\n",
            "Esta es una cadena\n"
          ],
          "name": "stdout"
        }
      ]
    },
    {
      "cell_type": "code",
      "metadata": {
        "colab": {
          "base_uri": "https://localhost:8080/"
        },
        "id": "a_fpX299c5h3",
        "outputId": "022ff29c-75c6-48f8-bc14-14ab138223bf"
      },
      "source": [
        "type(d)"
      ],
      "execution_count": null,
      "outputs": [
        {
          "output_type": "execute_result",
          "data": {
            "text/plain": [
              "str"
            ]
          },
          "metadata": {
            "tags": []
          },
          "execution_count": 8
        }
      ]
    },
    {
      "cell_type": "code",
      "metadata": {
        "colab": {
          "base_uri": "https://localhost:8080/"
        },
        "id": "5y_kj1mhd3Qw",
        "outputId": "c6dc7189-be4d-44e9-94b8-aef00abe5bc5"
      },
      "source": [
        "a = 5\n",
        "b = 2\n",
        "c = a / b\n",
        "d = a // b\n",
        "\n",
        "print(c)\n",
        "print(d)"
      ],
      "execution_count": null,
      "outputs": [
        {
          "output_type": "stream",
          "text": [
            "2.5\n",
            "2\n"
          ],
          "name": "stdout"
        }
      ]
    },
    {
      "cell_type": "code",
      "metadata": {
        "colab": {
          "base_uri": "https://localhost:8080/"
        },
        "id": "NdCItc3aeyD5",
        "outputId": "9fcff6e0-c8f3-4503-979c-549aa0bfdf0a"
      },
      "source": [
        "a = 2\n",
        "a ** 3"
      ],
      "execution_count": null,
      "outputs": [
        {
          "output_type": "execute_result",
          "data": {
            "text/plain": [
              "8"
            ]
          },
          "metadata": {
            "tags": []
          },
          "execution_count": 11
        }
      ]
    },
    {
      "cell_type": "markdown",
      "metadata": {
        "id": "E_EDQVyxCCDh"
      },
      "source": [
        "Given a = 2, b = 3, c = 4. Perform the following math operations:\n",
        "\n",
        "\\begin{align*}\n",
        "\\large\n",
        "d = \\frac{a^2-b^2+ab}{1-a-b}\n",
        "\\end{align*}\n",
        "\n",
        "\\begin{align*}\n",
        "\\large\n",
        "x = {\\frac{a^3-b^3+c^4}{a^2+b^2+c^3}}\n",
        "\\end{align*}\n",
        "\n",
        "\\begin{align*}\n",
        "\\large\n",
        "y = \\frac{1}{a}+\\frac{1}{b^2}+\\frac{b}{c}\n",
        "\\end{align*}\n",
        "\n",
        "Whan happens when we carry out operations with boolean variables? Report to the class. You can use the next cell or create your own"
      ]
    },
    {
      "cell_type": "code",
      "metadata": {
        "colab": {
          "base_uri": "https://localhost:8080/"
        },
        "id": "aVaarwF-FG82",
        "outputId": "0aadfc1a-e56a-4840-b1be-e41bd268f42f"
      },
      "source": [
        "a = 2\n",
        "b = 3\n",
        "c = 4\n",
        "\n",
        "d = (a ** 2 - b ** 2 + a * b) / (1 - a - b)\n",
        "d"
      ],
      "execution_count": null,
      "outputs": [
        {
          "output_type": "execute_result",
          "data": {
            "text/plain": [
              "-0.25"
            ]
          },
          "metadata": {
            "tags": []
          },
          "execution_count": 12
        }
      ]
    },
    {
      "cell_type": "code",
      "metadata": {
        "colab": {
          "base_uri": "https://localhost:8080/"
        },
        "id": "IHrylzRViaoK",
        "outputId": "cabd9bbd-07bc-40fa-c7ab-ffe2093f4f2c"
      },
      "source": [
        "a = 2\n",
        "b = 3\n",
        "\n",
        "if a < b:\n",
        "    print('a es menor que b')\n",
        "else:\n",
        "    print('a no es menor que b')"
      ],
      "execution_count": null,
      "outputs": [
        {
          "output_type": "stream",
          "text": [
            "a es menor que b\n"
          ],
          "name": "stdout"
        }
      ]
    },
    {
      "cell_type": "code",
      "metadata": {
        "colab": {
          "base_uri": "https://localhost:8080/"
        },
        "id": "OJA4oJcsjWbd",
        "outputId": "c56d94e3-e5bd-4fca-8fba-20e648818395"
      },
      "source": [
        "i = 1\n",
        "\n",
        "while i <= 10:\n",
        "    print('El valor de i es %i' % i)\n",
        "    #i = i + 1\n",
        "    i += 1"
      ],
      "execution_count": null,
      "outputs": [
        {
          "output_type": "stream",
          "text": [
            "El valor de i es 1\n",
            "El valor de i es 2\n",
            "El valor de i es 3\n",
            "El valor de i es 4\n",
            "El valor de i es 5\n",
            "El valor de i es 6\n",
            "El valor de i es 7\n",
            "El valor de i es 8\n",
            "El valor de i es 9\n",
            "El valor de i es 10\n"
          ],
          "name": "stdout"
        }
      ]
    },
    {
      "cell_type": "code",
      "metadata": {
        "colab": {
          "base_uri": "https://localhost:8080/"
        },
        "id": "fF5aG55lkXug",
        "outputId": "cea5cf3f-f7fb-43d3-dc3f-f4f331983df1"
      },
      "source": [
        "for i in range(1, 21, 2):\n",
        "    print(\"Counting %i\" % i)"
      ],
      "execution_count": null,
      "outputs": [
        {
          "output_type": "stream",
          "text": [
            "Counting 1\n",
            "Counting 3\n",
            "Counting 5\n",
            "Counting 7\n",
            "Counting 9\n",
            "Counting 11\n",
            "Counting 13\n",
            "Counting 15\n",
            "Counting 17\n",
            "Counting 19\n"
          ],
          "name": "stdout"
        }
      ]
    },
    {
      "cell_type": "code",
      "metadata": {
        "colab": {
          "base_uri": "https://localhost:8080/"
        },
        "id": "w--9dvHpnHSN",
        "outputId": "bd51cc90-6a51-4d23-de3a-934069ef267e"
      },
      "source": [
        "a = [1, 2, 3, 4, 5]\n",
        "a[4]"
      ],
      "execution_count": null,
      "outputs": [
        {
          "output_type": "execute_result",
          "data": {
            "text/plain": [
              "5"
            ]
          },
          "metadata": {
            "tags": []
          },
          "execution_count": 21
        }
      ]
    },
    {
      "cell_type": "code",
      "metadata": {
        "colab": {
          "base_uri": "https://localhost:8080/"
        },
        "id": "zIiZNDs2nWmj",
        "outputId": "56b951bf-6a44-4b00-984a-c17b3c37b07b"
      },
      "source": [
        "len(a)"
      ],
      "execution_count": null,
      "outputs": [
        {
          "output_type": "execute_result",
          "data": {
            "text/plain": [
              "5"
            ]
          },
          "metadata": {
            "tags": []
          },
          "execution_count": 22
        }
      ]
    },
    {
      "cell_type": "code",
      "metadata": {
        "colab": {
          "base_uri": "https://localhost:8080/"
        },
        "id": "w7ZMudu9nfuO",
        "outputId": "babae843-15aa-4680-d2b5-351b2b64eef5"
      },
      "source": [
        "b = [[1, 2, 3],\n",
        "     [4, 5, 6]]\n",
        "\n",
        "b[0][2]"
      ],
      "execution_count": null,
      "outputs": [
        {
          "output_type": "execute_result",
          "data": {
            "text/plain": [
              "3"
            ]
          },
          "metadata": {
            "tags": []
          },
          "execution_count": 25
        }
      ]
    },
    {
      "cell_type": "code",
      "metadata": {
        "colab": {
          "base_uri": "https://localhost:8080/"
        },
        "id": "ZwvctbjJoVuU",
        "outputId": "98243d6a-43ce-4109-a92e-4319a5ff03e0"
      },
      "source": [
        "c = [[1, 2, 3, 4, 5], \n",
        "     [6, 7, 8, 9, 10], \n",
        "     ['Hello', 'Univalle']]\n",
        "     \n",
        "print(c[2][1])"
      ],
      "execution_count": null,
      "outputs": [
        {
          "output_type": "stream",
          "text": [
            "Univalle\n"
          ],
          "name": "stdout"
        }
      ]
    },
    {
      "cell_type": "code",
      "metadata": {
        "colab": {
          "base_uri": "https://localhost:8080/"
        },
        "id": "8cmR6i_zpRIj",
        "outputId": "b92d1f7a-29a1-40e7-c517-40e5c6796547"
      },
      "source": [
        "c = [10, 20, 30, 40, 50] + [12] + [13, 14]\n",
        "c"
      ],
      "execution_count": null,
      "outputs": [
        {
          "output_type": "execute_result",
          "data": {
            "text/plain": [
              "[10, 20, 30, 40, 50, 12, 13, 14]"
            ]
          },
          "metadata": {
            "tags": []
          },
          "execution_count": 27
        }
      ]
    },
    {
      "cell_type": "code",
      "metadata": {
        "colab": {
          "base_uri": "https://localhost:8080/",
          "height": 35
        },
        "id": "UcyYI_JKpdMs",
        "outputId": "d79c00ea-b299-4d47-a645-ea08dc0eaf1b"
      },
      "source": [
        "hola = 'hola '\n",
        "mundo = 'mundo'\n",
        "hola_mundo = hola + mundo\n",
        "hola_mundo"
      ],
      "execution_count": null,
      "outputs": [
        {
          "output_type": "execute_result",
          "data": {
            "application/vnd.google.colaboratory.intrinsic+json": {
              "type": "string"
            },
            "text/plain": [
              "'hola mundo'"
            ]
          },
          "metadata": {
            "tags": []
          },
          "execution_count": 28
        }
      ]
    },
    {
      "cell_type": "code",
      "metadata": {
        "colab": {
          "base_uri": "https://localhost:8080/"
        },
        "id": "ke0_K-4rptRy",
        "outputId": "03fdf2d2-2994-404c-aa82-7543d51cdcde"
      },
      "source": [
        "c.append(20)\n",
        "c"
      ],
      "execution_count": null,
      "outputs": [
        {
          "output_type": "execute_result",
          "data": {
            "text/plain": [
              "[10, 20, 30, 40, 50, 12, 13, 14, 20]"
            ]
          },
          "metadata": {
            "tags": []
          },
          "execution_count": 29
        }
      ]
    },
    {
      "cell_type": "code",
      "metadata": {
        "colab": {
          "base_uri": "https://localhost:8080/"
        },
        "id": "FhsAxeuUp5dE",
        "outputId": "924176b5-af2d-405c-b709-7ac5d32d4ea5"
      },
      "source": [
        "c.append([5, 10, 15])\n",
        "c"
      ],
      "execution_count": null,
      "outputs": [
        {
          "output_type": "execute_result",
          "data": {
            "text/plain": [
              "[10, 20, 30, 40, 50, 12, 13, 14, 20, [5, 10, 15]]"
            ]
          },
          "metadata": {
            "tags": []
          },
          "execution_count": 30
        }
      ]
    },
    {
      "cell_type": "code",
      "metadata": {
        "colab": {
          "base_uri": "https://localhost:8080/"
        },
        "id": "dw-tH-o-qJM4",
        "outputId": "c4fd0bf9-fa59-487b-cf23-bed04c91722d"
      },
      "source": [
        "c.extend([100, 200])\n",
        "c"
      ],
      "execution_count": null,
      "outputs": [
        {
          "output_type": "execute_result",
          "data": {
            "text/plain": [
              "[10, 20, 30, 40, 50, 12, 13, 14, 20, [5, 10, 15], 100, 200]"
            ]
          },
          "metadata": {
            "tags": []
          },
          "execution_count": 31
        }
      ]
    },
    {
      "cell_type": "markdown",
      "metadata": {
        "id": "ivg-0FYmabTW"
      },
      "source": [
        "- enumerate\n",
        "- zip\n",
        "- dicts\n",
        "- functions"
      ]
    },
    {
      "cell_type": "code",
      "metadata": {
        "colab": {
          "base_uri": "https://localhost:8080/"
        },
        "id": "j7KkY9c6ktaf",
        "outputId": "0874f99a-f96b-4626-a359-bf7afe34788c"
      },
      "source": [
        "listado = [10, 20, 30, 40, 50]\n",
        "len(listado)"
      ],
      "execution_count": null,
      "outputs": [
        {
          "output_type": "execute_result",
          "data": {
            "text/plain": [
              "5"
            ]
          },
          "metadata": {
            "tags": []
          },
          "execution_count": 15
        }
      ]
    },
    {
      "cell_type": "code",
      "metadata": {
        "colab": {
          "base_uri": "https://localhost:8080/"
        },
        "id": "gFm1EjOnlgSH",
        "outputId": "d9076970-8c52-4fbb-bb9b-2a9b0ce9a648"
      },
      "source": [
        "for indice, valor in enumerate(listado):\n",
        "  print('Indice: %i, valor: %i' % (indice, valor))"
      ],
      "execution_count": null,
      "outputs": [
        {
          "output_type": "stream",
          "text": [
            "Indice: 0, valor: 10\n",
            "Indice: 1, valor: 20\n",
            "Indice: 2, valor: 30\n",
            "Indice: 3, valor: 40\n",
            "Indice: 4, valor: 50\n"
          ],
          "name": "stdout"
        }
      ]
    },
    {
      "cell_type": "code",
      "metadata": {
        "colab": {
          "base_uri": "https://localhost:8080/"
        },
        "id": "v3WD1LLMmtGe",
        "outputId": "91f74d91-bbd6-47ec-ad1d-d76d83236010"
      },
      "source": [
        "dias = [1, 2, 3, 4, 5]\n",
        "literales = ['lunes', 'martes', 'miercoles', 'jueves', 'viernes']\n",
        "\n",
        "for elemento in zip(dias, literales):\n",
        "    print(elemento)"
      ],
      "execution_count": null,
      "outputs": [
        {
          "output_type": "stream",
          "text": [
            "(1, 'lunes')\n",
            "(2, 'martes')\n",
            "(3, 'miercoles')\n",
            "(4, 'jueves')\n",
            "(5, 'viernes')\n"
          ],
          "name": "stdout"
        }
      ]
    },
    {
      "cell_type": "code",
      "metadata": {
        "colab": {
          "base_uri": "https://localhost:8080/",
          "height": 35
        },
        "id": "Q5duIAQqnmvB",
        "outputId": "255ff97e-029e-4f7b-faf1-0a6cb6d247dd"
      },
      "source": [
        "dic = {'lunes': 'Monday', 'martes': 'Tuesday', 'miercoles': 'Wednesday', 4: 'Thursday'}\n",
        "dic[4]"
      ],
      "execution_count": null,
      "outputs": [
        {
          "output_type": "execute_result",
          "data": {
            "application/vnd.google.colaboratory.intrinsic+json": {
              "type": "string"
            },
            "text/plain": [
              "'Thursday'"
            ]
          },
          "metadata": {
            "tags": []
          },
          "execution_count": 19
        }
      ]
    },
    {
      "cell_type": "code",
      "metadata": {
        "colab": {
          "base_uri": "https://localhost:8080/"
        },
        "id": "GkQ9BVNAo1w4",
        "outputId": "2278724a-0cd1-4ffd-d7a4-bfa6824bb934"
      },
      "source": [
        "dic['viernes'] = 'Friday'\n",
        "dic"
      ],
      "execution_count": null,
      "outputs": [
        {
          "output_type": "execute_result",
          "data": {
            "text/plain": [
              "{4: 'Thursday',\n",
              " 'lunes': 'Monday',\n",
              " 'martes': 'Tuesday',\n",
              " 'miercoles': 'Wednesday',\n",
              " 'viernes': 'Friday'}"
            ]
          },
          "metadata": {
            "tags": []
          },
          "execution_count": 20
        }
      ]
    },
    {
      "cell_type": "code",
      "metadata": {
        "colab": {
          "base_uri": "https://localhost:8080/"
        },
        "id": "mnM1zPx6pJBo",
        "outputId": "67bc6cc5-37cf-48ef-8687-056bec7bd928"
      },
      "source": [
        "for llave, valor in dic.items():\n",
        "  print('Llave: %s, Valor: %s' % (llave, valor))"
      ],
      "execution_count": null,
      "outputs": [
        {
          "output_type": "stream",
          "text": [
            "Llave: lunes, Valor: Monday\n",
            "Llave: martes, Valor: Tuesday\n",
            "Llave: miercoles, Valor: Wednesday\n",
            "Llave: 4, Valor: Thursday\n",
            "Llave: viernes, Valor: Friday\n"
          ],
          "name": "stdout"
        }
      ]
    },
    {
      "cell_type": "code",
      "metadata": {
        "id": "c32jMVKopv2x"
      },
      "source": [
        "def suma(valor1, valor2):\n",
        "    resultado = valor1 + valor2\n",
        "    return resultado"
      ],
      "execution_count": null,
      "outputs": []
    },
    {
      "cell_type": "code",
      "metadata": {
        "colab": {
          "base_uri": "https://localhost:8080/"
        },
        "id": "40nLyGX1q1kL",
        "outputId": "0fedd170-a4d2-40b6-ac88-96db384f250d"
      },
      "source": [
        "suma(3, 2)"
      ],
      "execution_count": null,
      "outputs": [
        {
          "output_type": "execute_result",
          "data": {
            "text/plain": [
              "5"
            ]
          },
          "metadata": {
            "tags": []
          },
          "execution_count": 23
        }
      ]
    },
    {
      "cell_type": "markdown",
      "metadata": {
        "id": "_Szf7rA5FAC-"
      },
      "source": [
        "# Class declarations\n"
      ]
    },
    {
      "cell_type": "code",
      "metadata": {
        "id": "cD626x0MZvCV"
      },
      "source": [
        "class Pencil:\n",
        "    def __init__(self, color, width, brand):\n",
        "        self.color = color\n",
        "        self.width = width\n",
        "        self.brand = brand\n",
        "\n",
        "    def write(self):\n",
        "        self.dummy()\n",
        "        print('Writing...')\n",
        "\n",
        "    def erase(self):\n",
        "        print('Erasing...')\n",
        "\n",
        "    def dummy(self):\n",
        "        print('This is a dummy method')\n",
        "\n",
        "    def show_parameters(self):\n",
        "        print('Color: %s, Width: %s, Brand: %s' % (self.color, self.width, self.brand))"
      ],
      "execution_count": null,
      "outputs": []
    },
    {
      "cell_type": "code",
      "metadata": {
        "colab": {
          "base_uri": "https://localhost:8080/"
        },
        "id": "ZkWjd75aaM3w",
        "outputId": "34869bad-35b9-4f1c-99d5-cb4b2c244f9a"
      },
      "source": [
        "pencil1 = Pencil('Black', 'HB', 'Faber Castell')\n",
        "pencil1.show_parameters()"
      ],
      "execution_count": null,
      "outputs": [
        {
          "output_type": "stream",
          "text": [
            "Color: Black, Width: HB, Brand: Faber Castell\n"
          ],
          "name": "stdout"
        }
      ]
    },
    {
      "cell_type": "code",
      "metadata": {
        "colab": {
          "base_uri": "https://localhost:8080/"
        },
        "id": "YI6JzFxbua60",
        "outputId": "6c22047e-ca50-4dab-9b60-bb895d865412"
      },
      "source": [
        "pencil1.write()"
      ],
      "execution_count": null,
      "outputs": [
        {
          "output_type": "stream",
          "text": [
            "This is a dummy method\n",
            "Writing...\n"
          ],
          "name": "stdout"
        }
      ]
    },
    {
      "cell_type": "code",
      "metadata": {
        "colab": {
          "base_uri": "https://localhost:8080/"
        },
        "id": "j7da-DHOwiIJ",
        "outputId": "0772e7a2-ec0c-43f3-dea2-3b241a9cdc47"
      },
      "source": [
        "pencil1.dummy()"
      ],
      "execution_count": null,
      "outputs": [
        {
          "output_type": "stream",
          "text": [
            "This is a dummy method\n"
          ],
          "name": "stdout"
        }
      ]
    },
    {
      "cell_type": "code",
      "metadata": {
        "colab": {
          "base_uri": "https://localhost:8080/"
        },
        "id": "GtgQaZIqui7R",
        "outputId": "b7a3b65b-a475-4ee0-d7a2-b4f9306e57ee"
      },
      "source": [
        "pencil1.erase()"
      ],
      "execution_count": null,
      "outputs": [
        {
          "output_type": "stream",
          "text": [
            "Erasing...\n"
          ],
          "name": "stdout"
        }
      ]
    },
    {
      "cell_type": "code",
      "metadata": {
        "id": "iYVAyDwNxsTg"
      },
      "source": [
        "class Person:\n",
        "    def __init__(self, id, first_name, last_name):\n",
        "        self._id = id\n",
        "        self._first_name = first_name\n",
        "        self._last_name = last_name\n",
        "\n",
        "    def show_personal_data(self):\n",
        "        print('ID: %s, First name: %s, Last name: %s' % (self._id, self._first_name, self._last_name))"
      ],
      "execution_count": null,
      "outputs": []
    },
    {
      "cell_type": "code",
      "metadata": {
        "colab": {
          "base_uri": "https://localhost:8080/"
        },
        "id": "W0b0lVZnygcY",
        "outputId": "07a70b60-3da8-4bbf-b86e-7f54d603f6bd"
      },
      "source": [
        "person1 = Person('1234', 'Juan', 'Perez')\n",
        "person1.show_personal_data()"
      ],
      "execution_count": null,
      "outputs": [
        {
          "output_type": "stream",
          "text": [
            "ID: 1234, First name: Juan, Last name: Perez\n"
          ],
          "name": "stdout"
        }
      ]
    },
    {
      "cell_type": "code",
      "metadata": {
        "id": "gHM3gqd0zk-H"
      },
      "source": [
        "class Student(Person):\n",
        "    def __init__(self, id, first_name, last_name, semester):\n",
        "        super(Student, self).__init__(id, first_name, last_name)\n",
        "        self.__semester = semester\n",
        "\n",
        "    def show_personal_data(self):\n",
        "        print('ID: %s, First name: %s, Last name: %s, Semester: %i' \n",
        "              % (self._id, self._first_name, self._last_name, self.__semester))"
      ],
      "execution_count": null,
      "outputs": []
    },
    {
      "cell_type": "code",
      "metadata": {
        "colab": {
          "base_uri": "https://localhost:8080/"
        },
        "id": "GXhZ0evE1xdz",
        "outputId": "ca748e5d-d459-492d-8510-e0cebc16a083"
      },
      "source": [
        "student1 = Student('5432', 'Roberto', 'Flores', 3)\n",
        "student1.show_personal_data()"
      ],
      "execution_count": null,
      "outputs": [
        {
          "output_type": "stream",
          "text": [
            "ID: 5432, First name: Roberto, Last name: Flores, Semester: 3\n"
          ],
          "name": "stdout"
        }
      ]
    },
    {
      "cell_type": "markdown",
      "metadata": {
        "id": "24LT_dCgai0i"
      },
      "source": [
        "# NumPY and Matplotlib introduction"
      ]
    },
    {
      "cell_type": "code",
      "metadata": {
        "id": "QiqyH1N039YG"
      },
      "source": [
        "import numpy as np"
      ],
      "execution_count": null,
      "outputs": []
    },
    {
      "cell_type": "code",
      "metadata": {
        "id": "FK6zzc2s4Npj"
      },
      "source": [
        "mat1 = np.array([[4,8,4],\n",
        "                 [3,1,2]])\n",
        "mat2 = np.array([[8,0,2],\n",
        "                 [1,-1,3]])"
      ],
      "execution_count": null,
      "outputs": []
    },
    {
      "cell_type": "code",
      "metadata": {
        "colab": {
          "base_uri": "https://localhost:8080/"
        },
        "id": "Gux9ZFI94-LH",
        "outputId": "e1b35a0d-83c8-4d90-d462-4baabc33794a"
      },
      "source": [
        "mat1 + mat2"
      ],
      "execution_count": null,
      "outputs": [
        {
          "output_type": "execute_result",
          "data": {
            "text/plain": [
              "array([[12,  8,  6],\n",
              "       [ 4,  0,  5]])"
            ]
          },
          "metadata": {
            "tags": []
          },
          "execution_count": 44
        }
      ]
    },
    {
      "cell_type": "code",
      "metadata": {
        "colab": {
          "base_uri": "https://localhost:8080/"
        },
        "id": "Dxfn3BOP5KfP",
        "outputId": "99e64336-b063-4c49-a61e-0fc5140aecfc"
      },
      "source": [
        "mat1 - mat2"
      ],
      "execution_count": null,
      "outputs": [
        {
          "output_type": "execute_result",
          "data": {
            "text/plain": [
              "array([[-4,  8,  2],\n",
              "       [ 2,  2, -1]])"
            ]
          },
          "metadata": {
            "tags": []
          },
          "execution_count": 45
        }
      ]
    },
    {
      "cell_type": "code",
      "metadata": {
        "colab": {
          "base_uri": "https://localhost:8080/"
        },
        "id": "XEZQiN0v5PAD",
        "outputId": "f871424a-b30b-411a-fc42-266b27932809"
      },
      "source": [
        "mat1 * 2"
      ],
      "execution_count": null,
      "outputs": [
        {
          "output_type": "execute_result",
          "data": {
            "text/plain": [
              "array([[ 8, 16,  8],\n",
              "       [ 6,  2,  4]])"
            ]
          },
          "metadata": {
            "tags": []
          },
          "execution_count": 46
        }
      ]
    },
    {
      "cell_type": "code",
      "metadata": {
        "colab": {
          "base_uri": "https://localhost:8080/"
        },
        "id": "KKqT6v_d5Wu5",
        "outputId": "6a493da4-9b93-44a6-b004-ffd3189f3820"
      },
      "source": [
        "mat1 * mat2"
      ],
      "execution_count": null,
      "outputs": [
        {
          "output_type": "execute_result",
          "data": {
            "text/plain": [
              "array([[32,  0,  8],\n",
              "       [ 3, -1,  6]])"
            ]
          },
          "metadata": {
            "tags": []
          },
          "execution_count": 47
        }
      ]
    },
    {
      "cell_type": "code",
      "metadata": {
        "colab": {
          "base_uri": "https://localhost:8080/"
        },
        "id": "yDIn0FXS6RAu",
        "outputId": "2c450135-1e32-4bc4-9747-889004763dd2"
      },
      "source": [
        "mat1.shape[1]"
      ],
      "execution_count": null,
      "outputs": [
        {
          "output_type": "execute_result",
          "data": {
            "text/plain": [
              "3"
            ]
          },
          "metadata": {
            "tags": []
          },
          "execution_count": 50
        }
      ]
    },
    {
      "cell_type": "code",
      "metadata": {
        "colab": {
          "base_uri": "https://localhost:8080/"
        },
        "id": "nVlaIl_V7MhX",
        "outputId": "9e84cd37-7768-4e00-9f40-3c3270374d1a"
      },
      "source": [
        "A = np.array([[1,2,3],\n",
        "              [4,5,6],\n",
        "              [7,8,9]])\n",
        "A"
      ],
      "execution_count": null,
      "outputs": [
        {
          "output_type": "execute_result",
          "data": {
            "text/plain": [
              "array([[1, 2, 3],\n",
              "       [4, 5, 6],\n",
              "       [7, 8, 9]])"
            ]
          },
          "metadata": {
            "tags": []
          },
          "execution_count": 51
        }
      ]
    },
    {
      "cell_type": "code",
      "metadata": {
        "colab": {
          "base_uri": "https://localhost:8080/"
        },
        "id": "wzQkKzfu83GE",
        "outputId": "451b8dfa-058a-43b2-aa4a-733003338546"
      },
      "source": [
        "A[:,1:3]"
      ],
      "execution_count": null,
      "outputs": [
        {
          "output_type": "execute_result",
          "data": {
            "text/plain": [
              "array([[2, 3],\n",
              "       [5, 6],\n",
              "       [8, 9]])"
            ]
          },
          "metadata": {
            "tags": []
          },
          "execution_count": 57
        }
      ]
    },
    {
      "cell_type": "code",
      "metadata": {
        "colab": {
          "base_uri": "https://localhost:8080/"
        },
        "id": "ljudEz7g7ddo",
        "outputId": "f19cc8b3-1239-4a67-8d59-9961668398f8"
      },
      "source": [
        "A[1, 1]"
      ],
      "execution_count": null,
      "outputs": [
        {
          "output_type": "execute_result",
          "data": {
            "text/plain": [
              "5"
            ]
          },
          "metadata": {
            "tags": []
          },
          "execution_count": 52
        }
      ]
    },
    {
      "cell_type": "code",
      "metadata": {
        "colab": {
          "base_uri": "https://localhost:8080/"
        },
        "id": "fKqZnL5F7uus",
        "outputId": "a161f9f9-9313-4e62-9e41-8bfe23c3736b"
      },
      "source": [
        "A[0]"
      ],
      "execution_count": null,
      "outputs": [
        {
          "output_type": "execute_result",
          "data": {
            "text/plain": [
              "array([1, 2, 3])"
            ]
          },
          "metadata": {
            "tags": []
          },
          "execution_count": 53
        }
      ]
    },
    {
      "cell_type": "code",
      "metadata": {
        "colab": {
          "base_uri": "https://localhost:8080/"
        },
        "id": "zrN2BwC270sS",
        "outputId": "2bc9ee67-262a-4aa9-8d12-f429b43672dd"
      },
      "source": [
        "A[0, :]"
      ],
      "execution_count": null,
      "outputs": [
        {
          "output_type": "execute_result",
          "data": {
            "text/plain": [
              "array([1, 2, 3])"
            ]
          },
          "metadata": {
            "tags": []
          },
          "execution_count": 54
        }
      ]
    },
    {
      "cell_type": "code",
      "metadata": {
        "colab": {
          "base_uri": "https://localhost:8080/"
        },
        "id": "zJTiL4Fu8F2x",
        "outputId": "90947e1b-15fe-4b00-f424-7bfe9c9361ed"
      },
      "source": [
        "A[:, 1]"
      ],
      "execution_count": null,
      "outputs": [
        {
          "output_type": "execute_result",
          "data": {
            "text/plain": [
              "array([2, 5, 8])"
            ]
          },
          "metadata": {
            "tags": []
          },
          "execution_count": 55
        }
      ]
    },
    {
      "cell_type": "code",
      "metadata": {
        "colab": {
          "base_uri": "https://localhost:8080/"
        },
        "id": "3VaHeA1G8P58",
        "outputId": "596e7c8c-6a55-459c-caf8-361e42edd76e"
      },
      "source": [
        "A[0:2, 1]"
      ],
      "execution_count": null,
      "outputs": [
        {
          "output_type": "execute_result",
          "data": {
            "text/plain": [
              "array([2, 5])"
            ]
          },
          "metadata": {
            "tags": []
          },
          "execution_count": 56
        }
      ]
    },
    {
      "cell_type": "markdown",
      "metadata": {
        "id": "0j-PPdRwanF0"
      },
      "source": [
        "Let:\n",
        "\n",
        "\\begin{align*}\n",
        "A=\\begin{bmatrix}\n",
        "-1 & 2 & 1 \\\\\n",
        "0 & 5 & 2 \\\\\n",
        "3 & 2 & 3\n",
        "\\end{bmatrix},\n",
        "B=\\begin{bmatrix}\n",
        "4 & -1 & 0 \\\\\n",
        "1 & 3 & 1 \\\\\n",
        "-2 & -1 & 1\n",
        "\\end{bmatrix}\n",
        "\\end{align*}\n",
        "\n",
        "Perform the following operations:\n",
        "\n",
        "\\begin{align*}\n",
        "A+2B\n",
        "\\end{align*}\n",
        "\\begin{align*}\n",
        "B-2A\n",
        "\\end{align*}\n",
        "\\begin{align*}\n",
        "3AB\n",
        "\\end{align*}\n",
        "\\begin{align*}\n",
        "A*B\n",
        "\\end{align*}"
      ]
    },
    {
      "cell_type": "code",
      "metadata": {
        "id": "k74kI821MQ8M"
      },
      "source": [
        "import matplotlib.pyplot as plt\n",
        "\n",
        "from scipy import linalg"
      ],
      "execution_count": null,
      "outputs": []
    },
    {
      "cell_type": "code",
      "metadata": {
        "id": "IAYVLrf3al5C",
        "colab": {
          "base_uri": "https://localhost:8080/"
        },
        "outputId": "18b055a6-e908-4ba9-a594-cc4129366754"
      },
      "source": [
        "A = np.array([[-1, 0, 2],\n",
        "              [2, 1, -1],\n",
        "              [1, 2, 2]])\n",
        "\n",
        "np.linalg.det(A)"
      ],
      "execution_count": null,
      "outputs": [
        {
          "output_type": "execute_result",
          "data": {
            "text/plain": [
              "2.0"
            ]
          },
          "metadata": {
            "tags": []
          },
          "execution_count": 3
        }
      ]
    },
    {
      "cell_type": "code",
      "metadata": {
        "colab": {
          "base_uri": "https://localhost:8080/"
        },
        "id": "KOeqTNBmX16E",
        "outputId": "e6131447-c4c0-45b6-b4fe-334190cbd50a"
      },
      "source": [
        "B = np.array([[6,-3],\n",
        "              [-2,1]])\n",
        "\n",
        "np.linalg.eig(B)"
      ],
      "execution_count": null,
      "outputs": [
        {
          "output_type": "execute_result",
          "data": {
            "text/plain": [
              "(array([7., 0.]), array([[ 0.9486833 ,  0.4472136 ],\n",
              "        [-0.31622777,  0.89442719]]))"
            ]
          },
          "metadata": {
            "tags": []
          },
          "execution_count": 18
        }
      ]
    },
    {
      "cell_type": "code",
      "metadata": {
        "colab": {
          "base_uri": "https://localhost:8080/"
        },
        "id": "rHfP6h8eLr_a",
        "outputId": "046aea66-d038-41db-96d3-468deb6c3ff5"
      },
      "source": [
        "np.linalg.matrix_rank(A)"
      ],
      "execution_count": null,
      "outputs": [
        {
          "output_type": "execute_result",
          "data": {
            "text/plain": [
              "3"
            ]
          },
          "metadata": {
            "tags": []
          },
          "execution_count": 4
        }
      ]
    },
    {
      "cell_type": "code",
      "metadata": {
        "colab": {
          "base_uri": "https://localhost:8080/"
        },
        "id": "XnszDh0QMVzJ",
        "outputId": "29ea0883-6114-4733-a029-b577d000e52d"
      },
      "source": [
        "linalg.lu(A)[2]"
      ],
      "execution_count": null,
      "outputs": [
        {
          "output_type": "execute_result",
          "data": {
            "text/plain": [
              "array([[ 2.        ,  1.        , -1.        ],\n",
              "       [ 0.        ,  1.5       ,  2.5       ],\n",
              "       [ 0.        ,  0.        ,  0.66666667]])"
            ]
          },
          "metadata": {
            "tags": []
          },
          "execution_count": 10
        }
      ]
    },
    {
      "cell_type": "code",
      "metadata": {
        "colab": {
          "base_uri": "https://localhost:8080/"
        },
        "id": "ccPie6eJbwPD",
        "outputId": "8a7ee753-df0a-4213-bacd-6d33f515f1c5"
      },
      "source": [
        "np.diag(A)"
      ],
      "execution_count": null,
      "outputs": [
        {
          "output_type": "execute_result",
          "data": {
            "text/plain": [
              "array([-1,  1,  2])"
            ]
          },
          "metadata": {
            "tags": []
          },
          "execution_count": 5
        }
      ]
    },
    {
      "cell_type": "code",
      "metadata": {
        "id": "kzf8bfBhkT_V"
      },
      "source": [
        "plt.figure(figsize=(5, 5))\n",
        "plt."
      ],
      "execution_count": null,
      "outputs": []
    }
  ]
}